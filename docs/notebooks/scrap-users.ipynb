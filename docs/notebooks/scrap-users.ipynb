{
 "cells": [
  {
   "cell_type": "markdown",
   "metadata": {},
   "source": [
    "# Download users"
   ]
  },
  {
   "cell_type": "markdown",
   "metadata": {},
   "source": [
    "Stweet allow to scrap user by usernames."
   ]
  },
  {
   "cell_type": "markdown",
   "metadata": {},
   "source": [
    "Scrapping users is simmilar to scrap tweets by ids."
   ]
  },
  {
   "cell_type": "code",
   "execution_count": null,
   "metadata": {},
   "outputs": [],
   "source": [
    "import stweet as st"
   ]
  },
  {
   "cell_type": "markdown",
   "metadata": {},
   "source": [
    "## Prepare task"
   ]
  },
  {
   "cell_type": "markdown",
   "metadata": {},
   "source": [
    "Task named `GetUsersTask` which contains only one property – `usernames: List[str]`. It contains list of usernames of users to scrap."
   ]
  },
  {
   "cell_type": "code",
   "execution_count": null,
   "metadata": {},
   "outputs": [],
   "source": [
    "usernames = ['ProtasiewiczJ', 'donaldtuskEPP']\n",
    "task = st.GetUsersTask(usernames)"
   ]
  },
  {
   "cell_type": "markdown",
   "metadata": {},
   "source": [
    "## Prepare UserOutputs"
   ]
  },
  {
   "cell_type": "markdown",
   "metadata": {},
   "source": [
    "Here is example of use UserOutputs. All options are in user-output section."
   ]
  },
  {
   "cell_type": "code",
   "execution_count": null,
   "metadata": {},
   "outputs": [],
   "source": [
    "user_collector = st.CollectorUserOutput()\n",
    "outputs = [user_collector]"
   ]
  },
  {
   "cell_type": "markdown",
   "metadata": {},
   "source": [
    "## Example task execution"
   ]
  },
  {
   "cell_type": "markdown",
   "metadata": {},
   "source": [
    "`GetUsersRunner` executes the `GetUsersTask`. It always needs to input a `get_user_task` and `user_outputs`.\n",
    "Below are all class properties:\n",
    "\n",
    " - **`get_user_task: GetUsersTask`** – task with defined users to scrap\n",
    "\n",
    " - **`user_outputs: List[UserOutput]`** – output of scrapped tweets\n",
    "\n",
    " - **`get_user_context: Optional[GetUsersContext] = None`** – context of scrapping user\n",
    "\n",
    " - **`web_client: WebClient = RequestsWebClient()`** – web client to make http requests\n",
    "\n",
    " - **`auth_token_provider_factory: AuthTokenProviderFactory = SimpleAuthTokenProviderFactory()`** – provider of auth token"
   ]
  },
  {
   "cell_type": "code",
   "execution_count": null,
   "metadata": {},
   "outputs": [],
   "source": [
    "result = st.GetUsersRunner(task, outputs).run()\n",
    "result"
   ]
  }
 ],
 "metadata": {
  "kernelspec": {
   "display_name": "Python 3",
   "language": "python",
   "name": "python3"
  },
  "language_info": {
   "codemirror_mode": {
    "name": "ipython",
    "version": 3
   },
   "file_extension": ".py",
   "mimetype": "text/x-python",
   "name": "python",
   "nbconvert_exporter": "python",
   "pygments_lexer": "ipython3",
   "version": "3.8.3"
  }
 },
 "nbformat": 4,
 "nbformat_minor": 4
}