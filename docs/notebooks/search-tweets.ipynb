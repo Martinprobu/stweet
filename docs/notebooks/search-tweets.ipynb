{
 "cells": [
  {
   "cell_type": "markdown",
   "metadata": {},
   "source": [
    "# Download searched tweets"
   ]
  },
  {
   "cell_type": "code",
   "execution_count": null,
   "metadata": {},
   "outputs": [],
   "source": [
    "import stweet as st"
   ]
  },
  {
   "cell_type": "markdown",
   "metadata": {},
   "source": [
    "## Prepare task"
   ]
  },
  {
   "cell_type": "markdown",
   "metadata": {},
   "source": [
    "Task named `SearchTweetsTask` have many properties:\n",
    " - **`all_words: Optional[str]`** – tweets have all words, not exactly in one block of text\n",
    " - **`exact_words: Optional[str]`** – tweets have all words in exact order\n",
    " - **`any_word: Optional[str]`** – tweets have at least one word\n",
    " - **`from_username: Optional[str]`** – tweets are posted by username\n",
    " - **`to_username: Optional[str]`** – tweets are posted to username\n",
    " - **`since: Optional[Arrow]`** – tweets since time\n",
    " - **`until: Optional[Arrow]`** – tweets until time\n",
    " - **`language: Optional[Language]`** – tweets from language, only one language can be selected\n",
    " - **`tweets_limit: Optional[int]`** – limit to first N scrapped tweets\n",
    " - **`replies_filter: Optional[RepliesFilter]`** – filter tweets by replies or original tweets, when None there is no filter"
   ]
  },
  {
   "cell_type": "code",
   "execution_count": null,
   "metadata": {},
   "outputs": [],
   "source": [
    "task = st.SearchTweetsTask(\n",
    "    all_words='#covid19', \n",
    "    tweets_limit=100, \n",
    "    language=st.Language.POLISH,\n",
    "    replies_filter=st.RepliesFilter.ONLY_ORIGINAL\n",
    ")"
   ]
  },
  {
   "cell_type": "markdown",
   "metadata": {},
   "source": [
    "## Prepare TweetOutputs"
   ]
  },
  {
   "cell_type": "markdown",
   "metadata": {},
   "source": [
    "Here is example of use TweetOutputs. All options are in tweet-output section."
   ]
  },
  {
   "cell_type": "code",
   "execution_count": null,
   "metadata": {},
   "outputs": [],
   "source": [
    "tweet_outputs = [\n",
    "    st.JsonLineFileTweetOutput('example.jl')\n",
    "]"
   ]
  },
  {
   "cell_type": "markdown",
   "metadata": {},
   "source": [
    "## Example task execution"
   ]
  },
  {
   "cell_type": "markdown",
   "metadata": {},
   "source": [
    "The base configuration of `TweetSearchRunner` needs `search_tweets_task` and `tweet_outputs`.\n",
    "To execute runner object you need to execute `run()` method."
   ]
  },
  {
   "cell_type": "code",
   "execution_count": null,
   "metadata": {},
   "outputs": [],
   "source": [
    "run_result = st.TweetSearchRunner(\n",
    "    search_tweets_task=task, \n",
    "    tweet_outputs=tweet_outputs\n",
    ").run()"
   ]
  },
  {
   "cell_type": "markdown",
   "metadata": {},
   "source": [
    "`TweetSearchRunner` returns `SearchTweetsResult` which contain the count of scrapped tweets."
   ]
  },
  {
   "cell_type": "code",
   "execution_count": null,
   "metadata": {},
   "outputs": [],
   "source": [
    "run_result"
   ]
  },
  {
   "cell_type": "markdown",
   "metadata": {},
   "source": [
    "## More about `TweetSearchRunner` configuration"
   ]
  },
  {
   "cell_type": "markdown",
   "metadata": {},
   "source": [
    "Here are all properties of `TweetSearchRunner`:\n",
    " - **`search_tweets_task: SearchTweetsTask`** – task with definition of tweets to scrap\n",
    " - **`tweet_outputs: List[TweetOutput]`** – objects to export scrapped tweets\n",
    " - **`search_run_context: Optional[SearchRunContext] = None`** – context of scrapping, it can continoue the paused scrapping or put initial auth token, if None the basic context is provided\n",
    " - **`web_client: WebClient = RequestsWebClient()`** – client to execute web connections, here can be configure proxy connection for example\n",
    " - **`tweet_parser: TweetParser = BaseTweetParser()`** – parser of tweet response from Twitter\n",
    " - **`auth_token_provider_factory: AuthTokenProviderFactory = SimpleAuthTokenProviderFactory()`** – provider of auth token"
   ]
  },
  {
   "cell_type": "code",
   "execution_count": null,
   "metadata": {},
   "outputs": [],
   "source": []
  }
 ],
 "metadata": {
  "kernelspec": {
   "display_name": "Python 3",
   "language": "python",
   "name": "python3"
  },
  "language_info": {
   "codemirror_mode": {
    "name": "ipython",
    "version": 3
   },
   "file_extension": ".py",
   "mimetype": "text/x-python",
   "name": "python",
   "nbconvert_exporter": "python",
   "pygments_lexer": "ipython3",
   "version": "3.8.3"
  }
 },
 "nbformat": 4,
 "nbformat_minor": 4
}
